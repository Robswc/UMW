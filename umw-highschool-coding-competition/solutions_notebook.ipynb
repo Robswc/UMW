{
 "cells": [
  {
   "cell_type": "markdown",
   "metadata": {},
   "source": [
    "# UMW HIGHSCHOOL PROGRAMMING COMPETITION\n",
    "## Questions and Solutions\n",
    "### Written in Python\n",
    "\n",
    "Questions, inputs and outputs were created by the University of Mary Washington Computer Science Department staff and students!\n",
    "Python solutions, added by Robert Carroll (@robswc)"
   ]
  },
  {
   "cell_type": "markdown",
   "metadata": {},
   "source": [
    "# Problem A:\n",
    "Jiffy and Jaffy have an uncle named Jaqarue.  His given name is Jaque, but in college he did extensive field work in Austrailia studying kangaroos, where he recieved the nickname Jaqarue.  Jaqarue's speciality is Red Giant Kangaroos.  Jaffy is 19 years old and a sophmore at UMW.  Uncle Jaqarue is 49 years old.  Write a program that given Jaffy's age,. the program prints Uncle Jaqarue's age.\n",
    "\n",
    "### Input\n",
    "Input is a single, non-negative ineger that is Jaffy's age.\n",
    "\n",
    "### Output\n",
    "Output is one line that is the age of Jaqarue.\n",
    "\n",
    "### Sample Input\n",
    "10\n",
    "\n",
    "### Sample Output\n",
    "Uncle Jaqarue is 40 years old.\n"
   ]
  },
  {
   "cell_type": "code",
   "execution_count": 1,
   "metadata": {},
   "outputs": [
    {
     "name": "stdout",
     "output_type": "stream",
     "text": [
      "Enter Jaffy's age:10\n",
      "Uncle Jaqarue is 40 years old.\n"
     ]
    }
   ],
   "source": [
    "#Problem A solution.\n",
    "\n",
    "#Simple Solution\n",
    "\n",
    "#Set age to be 30 + Jaffy's age (the input)\n",
    "#age = int(input(\"Enter Jaffy's age:\")) + 30\n",
    "# Print string with age variable.\n",
    "#print('Uncle Jaqarue is ' + str(age) + ' years old.')\n",
    "\n",
    "#More Advancedv\n",
    "print('Uncle Jaqarue is {} years old.'.format(int(input(\"Enter Jaffy's age.\")) + 30))"
   ]
  },
  {
   "cell_type": "markdown",
   "metadata": {},
   "source": [
    "# Problem B:\n",
    "Jiffy and Jaffy's Aunt Gingerbread is amazing at counting spots on giraffes.  Giraffe sports are mainly for camouflage, but they also contain a patchwork of blood vessels that cool a giraffe.  Aunt Gingerbread does not count spots one-by-one.  She looks at a giraffe and immediately knows how many spots are on it.  Many have asked Aunt Gingerbread to teach them her spot counting trick, but she doesn't know how she does it.  Aunt Gingerbread uses her spot counting to teach addition.  She counts the spots on two giraffes and teaches others how to add the spots.  Write a program that adds the spots of two giraffes.\n",
    "\n",
    "### Input\n",
    "The first line of input contains a non-negative integer N giving the number of pairs of giraffes that Aunt Gingerbread has counted.\n",
    "\n",
    "Following that are 2 * N lines.  Each pair of lines contain the spots on  pair of giraffes.\n",
    "\n",
    "### Output\n",
    "Output is N lines, where each line has the sum of the spots on a pair of giraffes.\n",
    "\n",
    "### Sample Input\n",
    "4\n",
    "\n",
    "10\n",
    "\n",
    "12\n",
    "\n",
    "20\n",
    "\n",
    "25\n",
    "\n",
    "30\n",
    "\n",
    "38\n",
    "\n",
    "40\n",
    "\n",
    "47\n",
    "\n",
    "\n",
    "### Sample Output\n",
    "22\n",
    "\n",
    "45\n",
    "\n",
    "68\n",
    "\n",
    "87"
   ]
  },
  {
   "cell_type": "code",
   "execution_count": null,
   "metadata": {},
   "outputs": [],
   "source": [
    "'''\n",
    "Sum the spots of two giraffes.\n",
    "'''\n",
    "# Get the number of pairs\n",
    "pairs = int(input('Pairs of Giraffes\\n'))\n",
    "# Create an empty list variable, will store the sums.\n",
    "pair_sum = []\n",
    "\n",
    "# Loop through (pairs) times.\n",
    "for i in range(pairs):\n",
    "    # set a and b to inputs.  One will come after the other.\n",
    "    a, b = int(input()), int(input())\n",
    "    # add the new sum to the pairs_sum list, adding a + b\n",
    "    pair_sum.append(a + b)\n",
    "\n",
    "# once we're done with all that, we just print out the pairs_sum list!\n",
    "for i in pair_sum:\n",
    "    print(i)"
   ]
  },
  {
   "cell_type": "markdown",
   "metadata": {},
   "source": [
    "# Problem C:\n",
    "Jiffy and Jaffy have a young cousin named Jessie.  On each Facetime call between Aunt Jessabell, Jiffy, and Jaffy; Aunt Jessabell points her camera at her little daughter Jessie.  Jiffy is amazed how much Jessie has grown each time they talk.  Giraffes can grow up to 19 feet tall and weigh 2500 pounds.  Maybe cousin Jessie will grow this big or maybe Jessie will grow even larger.  The Facetime calls are once per month, and little Jessie grows 6 inches on each call.  Little Jessie is 3 feet tall on the first Facetime call.  Write a program that computes how tall Jessie is after N Facetime calls.\n",
    "\n",
    "### Input\n",
    "Input is a single, non-negative integer that is the number of Facetime calls.\n",
    "\n",
    "### Output\n",
    "Output is one line that is the height of Jessie.  The height is printed in feet and half feet.  If the height is a whole number, then do not print the number of half feet.  The output line is terminated with either a . (period) or an ! (exclaimation point). If jessie's height is greater than 19 feet, terminate the output line with an exclaimation point; otherwise, terminate the output line with a period.\n",
    "\n",
    "### Sample Input\n",
    "2\n",
    "\n",
    "### Sample Output\n",
    "Jessie's height is 4 feet.\n",
    "\n",
    "\n",
    "### Sample Input\n",
    "34\n",
    "\n",
    "### Sample Output\n",
    "Jessie's height is 20 feet!"
   ]
  },
  {
   "cell_type": "code",
   "execution_count": null,
   "metadata": {},
   "outputs": [],
   "source": [
    "import math\n",
    "\n",
    "# first get number of calls.\n",
    "c = int(input('Number of Calls\\n'))\n",
    "\n",
    "# set feet to rounded down (math.floor) calls * 6 + 36 (the initial 3 feet) then, inch to calls * 6 + 36 MOD Division by 12, this gets the remainder.\n",
    "feet, inch = math.floor(((c * 6 + 36) / 12)), ((c * 6 + 36) % 12)\n",
    "\n",
    "# print Jessie's height string, using .format to change the punctuation depending on if feet is > or < 19.\n",
    "# also, check to make sure if there is a remainder, if so print half feet, if not print only feet.\n",
    "print(\"Jessie's height is {} feet{}\".format(feet, \"!\" if feet > 19 else \".\")) \\\n",
    "    if inch == 0 else \\\n",
    "    print(\"Jessie's height is {} feet and {} inches{}\".format(feet, inch, \"!\" if feet > 19 else \".\"))"
   ]
  }
 ],
 "metadata": {
  "kernelspec": {
   "display_name": "Python 3",
   "language": "python",
   "name": "python3"
  },
  "language_info": {
   "codemirror_mode": {
    "name": "ipython",
    "version": 3
   },
   "file_extension": ".py",
   "mimetype": "text/x-python",
   "name": "python",
   "nbconvert_exporter": "python",
   "pygments_lexer": "ipython3",
   "version": "3.6.5"
  }
 },
 "nbformat": 4,
 "nbformat_minor": 2
}
