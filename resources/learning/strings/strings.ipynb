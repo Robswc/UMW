{
 "cells": [
  {
   "cell_type": "markdown",
   "metadata": {},
   "source": [
    "# Strings\n",
    "Strings are an essential datatype in almost all programming languages.  It is important to know how to manipulate strings as the concepts involved can be applied elsewhere.  Below are several \"challenges\" with solutions and prompts involving strings, all written in python.\n",
    "<hr>\n",
    "<i>References</i>\n",
    "\n",
    "https://www.bigocheatsheet.com/"
   ]
  },
  {
   "cell_type": "markdown",
   "metadata": {},
   "source": [
    "# Unique Characters in a String\n",
    "What if you want to make an algorithm to find out if a string is composed of only unique characters?\n",
    "(i.e. 'abc' is unique, 'aab' is not)\n",
    "<hr>"
   ]
  },
  {
   "cell_type": "markdown",
   "metadata": {},
   "source": [
    "### Solution 1"
   ]
  },
  {
   "cell_type": "code",
   "execution_count": 1,
   "metadata": {},
   "outputs": [],
   "source": [
    "def get_unique_1(s):\n",
    "    \"\"\"\n",
    "    Tests to see if string is composed of unique characters. It does this by starting at the first char\n",
    "    in the string. It then loops through all other chars, checking as it goes if the two chars are the same.\n",
    "    If none are the same, the main loop continues on to the next char, repeating the process until all chars\n",
    "    in the string are checked.\n",
    "    :param s: String to test\n",
    "    :return: True, if all chars are unique, False otherwise.\n",
    "    \"\"\"\n",
    "    # Loop len of list\n",
    "    for i in range(len(s)):\n",
    "        # Including a sleep to highlight time complexity\n",
    "        time.sleep(1)\n",
    "        # Loop i + 1, len of list\n",
    "        for x in range(i + 1, len(s)):\n",
    "            # If both chars are the same, return false\n",
    "            if s[i] is s[x]:\n",
    "                return False\n",
    "\n",
    "    # If it makes it through the loops without returning false, it must be true!\n",
    "    return True"
   ]
  },
  {
   "cell_type": "markdown",
   "metadata": {},
   "source": [
    "The above solution is good, however it runs in a time complexity of O(n<sup>2</sup>), which is not great. This means that the time needed for the algorithm to run increases exponentially with the input. In this case, the length of the string. \n",
    "\n",
    "It runs in O(n<sup>2</sup>) complexity due to the nested for loop.  For each loop in the main loop, you will also have to loop n times. (or rather n-1 times but it is simplified down to just n)  You can think of it like this: O(n<sup>this is your first loop</sup> * n<sup>this is your second loop</sup>), which simplifies to O(n<sup>2</sup>). Just to  note, if you had two non-nested for loops, it would simplify to O(n<sup>this is your first loop</sup> + n<sup>this is your second loop</sup>) which would simplify to O(n), constants are dropped!\n",
    "\n",
    "\n",
    "Below is a better solution."
   ]
  },
  {
   "cell_type": "markdown",
   "metadata": {},
   "source": [
    "### Solution 2"
   ]
  },
  {
   "cell_type": "code",
   "execution_count": 2,
   "metadata": {},
   "outputs": [],
   "source": [
    "def get_unique_2(s):\n",
    "    \"\"\"\n",
    "    Tests to see if string is composed  of unique characters. It does this by sorting the string alphabetically first,\n",
    "    then looping *once* through the string to determine if there are any duplicates.\n",
    "    :param s: String to test.\n",
    "    :return: True, if all chars are unique, False otherwise.\n",
    "    \"\"\"\n",
    "\n",
    "    # Sort the string, alphabetically.\n",
    "    s = sorted(s)\n",
    "\n",
    "    # Loop (length of s) times.\n",
    "    for i in range(len(s)):\n",
    "        # Including a sleep to highlight time complexity\n",
    "        time.sleep(1)\n",
    "        # If there are two of the same characters next to one another, return false.\n",
    "        if s[i] == s[i + 1]:\n",
    "            return False\n",
    "\n",
    "    # If it hasn't returned false, it must be true!\n",
    "    return True"
   ]
  },
  {
   "cell_type": "markdown",
   "metadata": {},
   "source": [
    "Both return the correct answer, however keep in mind, solution 2 (get_unique_2) runs with a time complexity of O(nlogn) which  is much better than O(n<sup>2</sup>).  It is also a bit more eloquent!  So, if we run them through a bit of a test!"
   ]
  },
  {
   "cell_type": "code",
   "execution_count": 5,
   "metadata": {},
   "outputs": [
    {
     "name": "stdout",
     "output_type": "stream",
     "text": [
      "False\n",
      "Solution 1 took 2000ms\n",
      "False\n",
      "Solution 2 took 1000ms\n"
     ]
    }
   ],
   "source": [
    "import time\n",
    "\n",
    "test_string = \"ThisCanBeTheFirstTestString\"\n",
    "\n",
    "time_start = round(int(time.time() * 1000))\n",
    "print(get_unique_1(test_string))\n",
    "print(\"Solution 1 took {}ms\".format(round(int(time.time()* 1000)) - time_start))\n",
    "\n",
    "time_start = round(int(time.time() * 1000))\n",
    "print(get_unique_2(test_string))\n",
    "print(\"Solution 2 took {}ms\".format(round(int(time.time()* 1000)) - time_start))"
   ]
  },
  {
   "cell_type": "markdown",
   "metadata": {},
   "source": [
    "As one can see, solution 2 is nearly twice as fast!  This is because after the string is sorted, it could (and a lot of cases) take one loop.  After being sorted, the string would appear as:"
   ]
  },
  {
   "cell_type": "code",
   "execution_count": 8,
   "metadata": {},
   "outputs": [
    {
     "data": {
      "text/plain": [
       "['B',\n",
       " 'C',\n",
       " 'F',\n",
       " 'S',\n",
       " 'T',\n",
       " 'T',\n",
       " 'T',\n",
       " 'a',\n",
       " 'e',\n",
       " 'e',\n",
       " 'e',\n",
       " 'g',\n",
       " 'h',\n",
       " 'h',\n",
       " 'i',\n",
       " 'i',\n",
       " 'i',\n",
       " 'n',\n",
       " 'n',\n",
       " 'r',\n",
       " 'r',\n",
       " 's',\n",
       " 's',\n",
       " 's',\n",
       " 't',\n",
       " 't',\n",
       " 't']"
      ]
     },
     "execution_count": 8,
     "metadata": {},
     "output_type": "execute_result"
    }
   ],
   "source": [
    "sorted(\"ThisCanBeTheFirstTestString\")"
   ]
  },
  {
   "cell_type": "markdown",
   "metadata": {},
   "source": [
    "This would mean it would only take four loops to reach the non unique characters.  To contrast, **Solution 1** would take 9 loops.  Of course, in cases, like \"bizzare\" (with an extra 'z'!) **Solution 1** would perform faster.  However, for the most part you're looking at the **overall**, the O.  Its better to look at the algorithm, not the inputs... in most cases ;)\n",
    "\n",
    "You can learn more about time complexities here!\n",
    "https://www.bigocheatsheet.com/"
   ]
  },
  {
   "cell_type": "markdown",
   "metadata": {},
   "source": [
    "# Permutations\n",
    "Check if one string is a permutation of another. (i.e. an anagram, the characters of one string can be rearranged to create the second)\n",
    "<hr>"
   ]
  },
  {
   "cell_type": "markdown",
   "metadata": {},
   "source": [
    "### Solution 1\n",
    "**Time Complexity: O(n)**"
   ]
  },
  {
   "cell_type": "code",
   "execution_count": 6,
   "metadata": {},
   "outputs": [],
   "source": [
    "# Import a counter from collections\n",
    "from collections import Counter\n",
    "\n",
    "def is_permutation(s1, s2):\n",
    "    \"\"\"\n",
    "    Tests to see if one string is a permutation of another.\n",
    "    :param s1: String 1\n",
    "    :param s2: String 2\n",
    "    :return: True, if the strings are permutations, False otherwise.\n",
    "    \"\"\"\n",
    "    # If the lengths of the strings are not equal, it is impossible for them to be\n",
    "    # permutations of one another.\n",
    "    if len(s1) is not len(s2):\n",
    "        return False\n",
    "    \n",
    "    # If the lengths are equal, return whether the counts of each character are equal (True or False)\n",
    "    return Counter(s1) == Counter(s2)"
   ]
  },
  {
   "cell_type": "markdown",
   "metadata": {},
   "source": [
    "In summary, we start by checking the lengths of the two strings.  If they are not equal, it is impossible for them to be permuations.  If the program passes this point, it then returns the result of Counter(s1) == Counter(s2) which will either by True (if the counts of characters are the same) or False (if the counts are not the same).  Just to make it extra clear, there is an example of the results of a Counter below, as well as the driver for the above code."
   ]
  },
  {
   "cell_type": "code",
   "execution_count": 10,
   "metadata": {},
   "outputs": [
    {
     "name": "stdout",
     "output_type": "stream",
     "text": [
      "Is CAT a permutation of TAC?\n",
      "True\n",
      "Is CAT a permutation of DOG?\n",
      "False\n",
      "Finally, here is an example of the Counter in action:\n",
      "Counter({'a': 2, 'T': 1, 'c': 1, 'o': 1, 'C': 1, 't': 1})\n",
      "Counter({'a': 2, 'C': 1, 't': 1, 'T': 1, 'c': 1, 'o': 1})\n"
     ]
    }
   ],
   "source": [
    "test_a, test_b = \"CAT\", \"TAC\"\n",
    "\n",
    "print(\"Is {} a permutation of {}?\".format(test_a, test_b))\n",
    "print(is_permutation(test_a, test_b))\n",
    "\n",
    "test_c = \"DOG\"\n",
    "\n",
    "print(\"Is {} a permutation of {}?\".format(test_a, test_c))\n",
    "print(is_permutation(test_a, test_c))\n",
    "\n",
    "print(\"Finally, here is an example of the Counter in action:\")\n",
    "print(Counter(\"TacoCat\"))\n",
    "print(Counter(\"CatTaco\"))"
   ]
  },
  {
   "cell_type": "markdown",
   "metadata": {},
   "source": [
    "# Permutations of a Palindrome\n",
    "Check if one string is a permutation of a palindrome.  \n",
    "<hr>"
   ]
  },
  {
   "cell_type": "markdown",
   "metadata": {},
   "source": [
    "### Solution 1\n",
    "**Time Complexity: O(n)**"
   ]
  },
  {
   "cell_type": "code",
   "execution_count": 1,
   "metadata": {},
   "outputs": [],
   "source": [
    "def is_both(s):\n",
    "    \"\"\"\n",
    "    Tests to see if string is both a palindrome AND a permutation.\n",
    "    :param s: String to test\n",
    "    :return: True, if the string is a permutation AND a palindrome, False otherwise.\n",
    "    \"\"\"\n",
    "    # set r, stands for remainder. Set is used as sets are much faster for checking if an item is contained within it.\n",
    "    r = set()\n",
    "    \n",
    "    # Loop through the string.\n",
    "    for c in s:\n",
    "        # If the character is in the set, remove it from the set, else add it to the set.\n",
    "        if c in r:\n",
    "            r.remove(c)\n",
    "        else:\n",
    "            r.add(c)\n",
    "    \n",
    "    # Return True or False, if the length of the set is less than two.\n",
    "    return len(r) < 2    "
   ]
  },
  {
   "cell_type": "markdown",
   "metadata": {},
   "source": [
    "This is one of the more eloquent and interesting solutions.  It uses the logic that, in order to be a palindrome, there can only be one character with an odd number of occurances.  If a character occurs twice, it will not exist in the set by the time the return statement is reached.  If a character occurs once or three times, it WILL exist in the set.  If there are more than two characters within the set, it is impossible for the string to be a palindrome."
   ]
  },
  {
   "cell_type": "code",
   "execution_count": 18,
   "metadata": {},
   "outputs": [
    {
     "name": "stdout",
     "output_type": "stream",
     "text": [
      "Is tacocat a palindrome and permutation?\n",
      "True\n",
      "Is ttaacco a palindrome and permutation?\n",
      "True\n",
      "Is career a palindrome and permutation?\n",
      "False\n"
     ]
    }
   ],
   "source": [
    "test_a = \"tacocat\"\n",
    "print(\"Is {} a palindrome and permutation?\".format(test_a))\n",
    "print(is_both(test_a))\n",
    "\n",
    "test_b = \"ttaacco\"\n",
    "print(\"Is {} a palindrome and permutation?\".format(test_b))\n",
    "print(is_both(test_b))\n",
    "\n",
    "test_c = \"career\"\n",
    "print(\"Is {} a palindrome and permutation?\".format(test_c))\n",
    "print(is_both(test_c))"
   ]
  },
  {
   "cell_type": "markdown",
   "metadata": {},
   "source": [
    "# Is String a Rotation?\n",
    "How would you check if one string is a rotation of another? i.e. a rotation would be s1 = \"building\" and s2 = \"ldingbui\" \n",
    "\n",
    "**Rotations**\n",
    "\n",
    "s1 = \"doghouse\", s2 = \"housedog\"\n",
    "\n",
    "s1 = \"rabbit\", s2 = \"bitrab\"\n",
    "\n",
    "**Not Rotations**\n",
    "\n",
    "s1 = \"rabbits\", s2 = \"rabbit\"\n",
    "\n",
    "s1 = \"rabble\", s1 = \"bbleba\"\n",
    "<hr>"
   ]
  },
  {
   "cell_type": "code",
   "execution_count": 11,
   "metadata": {},
   "outputs": [],
   "source": [
    "def is_rotation(s1, s2):\n",
    "    \"\"\"\n",
    "    Tests to see if one string is a rotation of another.\n",
    "    :param s1: Original String\n",
    "    :param s2: Rotated String\n",
    "    :return: True, if s2 is a rotation of s1.\n",
    "    \"\"\"\n",
    "    # Return True or False, if s2 is a rotation of s1\n",
    "    return s2 in '{}{}'.format(s1, s1)"
   ]
  },
  {
   "cell_type": "markdown",
   "metadata": {},
   "source": [
    "This one may seem daunting at first, however the solution is quite simple once it is explained.\n",
    "\n",
    "If we take for example, doghouse and make the point of rotation between the 'dog' and the 'house' characters we would get x = 'dog' and y = 'house' when put together the original string = xy.\n",
    "\n",
    "If we take 'housedog' and split it at the same location, we get y = 'house' and x = 'dog'.\n",
    "\n",
    "If we now make a new string, xyxy and ask \"is yx in xyxy?\" which translates into \"is 'housedog' in 'dog**housedog**house' and it is! "
   ]
  },
  {
   "cell_type": "code",
   "execution_count": 14,
   "metadata": {},
   "outputs": [
    {
     "name": "stdout",
     "output_type": "stream",
     "text": [
      "Is housedog a rotation of doghouse?\n",
      "True\n",
      "Is rabbit a rotation of bitrab?\n",
      "True\n",
      "Is rabble a rotation of bbleba?\n",
      "False\n"
     ]
    }
   ],
   "source": [
    "test_a = \"doghouse\"\n",
    "test_b = \"housedog\"\n",
    "print(\"Is {} a rotation of {}?\".format(test_b, test_a))\n",
    "print(is_rotation(test_a, test_b))\n",
    "\n",
    "test_c = \"rabbit\"\n",
    "test_d = \"bitrab\"\n",
    "print(\"Is {} a rotation of {}?\".format(test_c, test_d))\n",
    "print(is_rotation(test_a, test_b))\n",
    "\n",
    "test_e = \"rabble\"\n",
    "test_f = \"bbleba\"\n",
    "print(\"Is {} a rotation of {}?\".format(test_e, test_f))\n",
    "print(is_rotation(test_e, test_f))"
   ]
  },
  {
   "cell_type": "code",
   "execution_count": null,
   "metadata": {},
   "outputs": [],
   "source": []
  }
 ],
 "metadata": {
  "kernelspec": {
   "display_name": "Python 3",
   "language": "python",
   "name": "python3"
  },
  "language_info": {
   "codemirror_mode": {
    "name": "ipython",
    "version": 3
   },
   "file_extension": ".py",
   "mimetype": "text/x-python",
   "name": "python",
   "nbconvert_exporter": "python",
   "pygments_lexer": "ipython3",
   "version": "3.6.5"
  }
 },
 "nbformat": 4,
 "nbformat_minor": 2
}
