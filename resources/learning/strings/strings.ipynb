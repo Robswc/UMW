{
 "cells": [
  {
   "cell_type": "markdown",
   "metadata": {},
   "source": [
    "# Unique Characters in a String\n",
    "What if you want to make an algorithm to find out if a string is composed of only unique characters?\n",
    "(i.e. 'abc' is unique, 'aab' is not)"
   ]
  },
  {
   "cell_type": "markdown",
   "metadata": {},
   "source": [
    "### Solution 1"
   ]
  },
  {
   "cell_type": "code",
   "execution_count": 1,
   "metadata": {},
   "outputs": [],
   "source": [
    "def get_unique_1(s):\n",
    "    \"\"\"\n",
    "    Tests to see if string is composed of unique characters. It does this by starting at the first char\n",
    "    in the string. It then loops through all other chars, checking as it goes if the two chars are the same.\n",
    "    If none are the same, the main loop continues on to the next char, repeating the process until all chars\n",
    "    in the string are checked.\n",
    "    :param s: String to test\n",
    "    :return: True, if all chars are unique, False otherwise.\n",
    "    \"\"\"\n",
    "    # Loop len of list\n",
    "    for i in range(len(s)):\n",
    "        # Including a sleep to highlight time complexity\n",
    "        time.sleep(1)\n",
    "        # Loop i + 1, len of list\n",
    "        for x in range(i + 1, len(s)):\n",
    "            # If both chars are the same, return false\n",
    "            if s[i] is s[x]:\n",
    "                return False\n",
    "\n",
    "    # If it makes it through the loops without returning false, it must be true!\n",
    "    return True"
   ]
  },
  {
   "cell_type": "markdown",
   "metadata": {},
   "source": [
    "The above solution is good, however it runs in a time complexity of O(n<sup>2</sup>), which is not great. This means that the time needed for the algorithm to run increases exponentially with the input. In this case, the length of the string. \n",
    "\n",
    "It runs in O(n<sup>2</sup>) complexity due to the nested for loop.  For each loop in the main loop, you will also have to loop n times. (or rather n-1 times but it is simplified down to just n)  You can think of it like this: O(n<sup>this is your first loop</sup> * n<sup>this is your second loop</sup>), which simplifies to O(n<sup>2</sup>). Just to  note, if you had two non-nested for loops, it would simplify to O(n<sup>this is your first loop</sup> + n<sup>this is your second loop</sup>) which would simplify to O(n), constants are dropped!\n",
    "\n",
    "\n",
    "Below is a better solution."
   ]
  },
  {
   "cell_type": "markdown",
   "metadata": {},
   "source": [
    "### Solution 2"
   ]
  },
  {
   "cell_type": "code",
   "execution_count": 2,
   "metadata": {},
   "outputs": [],
   "source": [
    "def get_unique_2(s):\n",
    "    \"\"\"\n",
    "    Tests to see if string is composed  of unique characters. It does this by sorting the string alphabetically first,\n",
    "    then looping *once* through the string to determine if there are any duplicates.\n",
    "    :param s: String to test.\n",
    "    :return: True, if all chars are unique, False otherwise.\n",
    "    \"\"\"\n",
    "\n",
    "    # Sort the string, alphabetically.\n",
    "    s = sorted(s)\n",
    "\n",
    "    # Loop (length of s) times.\n",
    "    for i in range(len(s)):\n",
    "        # Including a sleep to highlight time complexity\n",
    "        time.sleep(1)\n",
    "        # If there are two of the same characters next to one another, return false.\n",
    "        if s[i] == s[i + 1]:\n",
    "            return False\n",
    "\n",
    "    # If it hasn't returned false, it must be true!\n",
    "    return True"
   ]
  },
  {
   "cell_type": "markdown",
   "metadata": {},
   "source": [
    "Both return the correct answer, however keep in mind, solution 2 (get_unique_2) runs with a time complexity of O(nlogn) which  is much better than O(n<sup>2</sup>).  It is also a bit more eloquent!  So, if we run them through a bit of a test!"
   ]
  },
  {
   "cell_type": "code",
   "execution_count": 5,
   "metadata": {},
   "outputs": [
    {
     "name": "stdout",
     "output_type": "stream",
     "text": [
      "False\n",
      "Solution 1 took 2000ms\n",
      "False\n",
      "Solution 2 took 1000ms\n"
     ]
    }
   ],
   "source": [
    "import time\n",
    "\n",
    "\n",
    "test_string = \"ThisCanBeTheFirstTestString\"\n",
    "\n",
    "time_start = round(int(time.time() * 1000))\n",
    "print(get_unique_1(test_string))\n",
    "print(\"Solution 1 took {}ms\".format(round(int(time.time()* 1000)) - time_start))\n",
    "\n",
    "time_start = round(int(time.time() * 1000))\n",
    "print(get_unique_2(test_string))\n",
    "print(\"Solution 2 took {}ms\".format(round(int(time.time()* 1000)) - time_start))"
   ]
  },
  {
   "cell_type": "markdown",
   "metadata": {},
   "source": [
    "As one can see, solution 2 is nearly twice as fast!  This is because after the string is sorted, it could (and a lot of cases) take one loop.  After being sorted, the string would appear as:"
   ]
  },
  {
   "cell_type": "code",
   "execution_count": 8,
   "metadata": {},
   "outputs": [
    {
     "data": {
      "text/plain": [
       "['B',\n",
       " 'C',\n",
       " 'F',\n",
       " 'S',\n",
       " 'T',\n",
       " 'T',\n",
       " 'T',\n",
       " 'a',\n",
       " 'e',\n",
       " 'e',\n",
       " 'e',\n",
       " 'g',\n",
       " 'h',\n",
       " 'h',\n",
       " 'i',\n",
       " 'i',\n",
       " 'i',\n",
       " 'n',\n",
       " 'n',\n",
       " 'r',\n",
       " 'r',\n",
       " 's',\n",
       " 's',\n",
       " 's',\n",
       " 't',\n",
       " 't',\n",
       " 't']"
      ]
     },
     "execution_count": 8,
     "metadata": {},
     "output_type": "execute_result"
    }
   ],
   "source": [
    "sorted(\"ThisCanBeTheFirstTestString\")"
   ]
  },
  {
   "cell_type": "markdown",
   "metadata": {},
   "source": [
    "This would mean it would only take four loops to reach the non unique characters.  To contrast, **Solution 1** would take 9 loops.  Of course, in cases, like \"bizzare\" (with an extra 'z'!) **Solution 1** would perform faster.  However, for the most part you're looking at the **overall**, the O.  Its better to look at the algorithm, not the inputs... in most cases ;)\n",
    "\n",
    "You can learn more about time complexities here!\n",
    "https://www.bigocheatsheet.com/"
   ]
  },
  {
   "cell_type": "code",
   "execution_count": null,
   "metadata": {},
   "outputs": [],
   "source": []
  }
 ],
 "metadata": {
  "kernelspec": {
   "display_name": "Python 3",
   "language": "python",
   "name": "python3"
  },
  "language_info": {
   "codemirror_mode": {
    "name": "ipython",
    "version": 3
   },
   "file_extension": ".py",
   "mimetype": "text/x-python",
   "name": "python",
   "nbconvert_exporter": "python",
   "pygments_lexer": "ipython3",
   "version": "3.6.5"
  }
 },
 "nbformat": 4,
 "nbformat_minor": 2
}
